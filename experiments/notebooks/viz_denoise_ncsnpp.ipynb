{
 "cells": [
  {
   "cell_type": "code",
   "execution_count": null,
   "metadata": {},
   "outputs": [],
   "source": [
    "import os\n",
    "import sys\n",
    "import matplotlib.pyplot as plt\n",
    "import seaborn as sns\n",
    "from torchvision.utils import make_grid\n",
    "from matplotlib.gridspec import GridSpec\n",
    "\n",
    "experiment_dir = \"../\"\n",
    "sys.path.append(experiment_dir)\n",
    "from configs import celeba_ncsnpp, abdomen_ncsnpp\n",
    "from configs.utils import get_config\n",
    "from dataset import get_dataset\n",
    "from utils import denoising_results\n",
    "\n",
    "sns.set_theme()\n",
    "sns.set_context(\"paper\")\n",
    "\n",
    "fig_dir = os.path.join(experiment_dir, \"figures\", \"denoise\")\n",
    "os.makedirs(fig_dir, exist_ok=True)"
   ]
  },
  {
   "cell_type": "code",
   "execution_count": null,
   "metadata": {},
   "outputs": [],
   "source": [
    "configs = [\"celeba_ncsnpp\", \"abdomen_ncsnpp\"]\n",
    "for config_name in configs:\n",
    "    config = get_config(config_name)\n",
    "\n",
    "    n = 4\n",
    "    _, dataset = get_dataset(config)\n",
    "    _, original, perturbed, denoised = denoising_results(\n",
    "        dataset, config, shuffle=True, n=n\n",
    "    )\n",
    "\n",
    "    m = 5\n",
    "    fig = plt.figure(figsize=(16, 9))\n",
    "    gs = GridSpec(n, 3, width_ratios=[1, 1, m], wspace=0.05, hspace=0)\n",
    "    for i in range(n):\n",
    "        ax = fig.add_subplot(gs[i, 0])\n",
    "        ax.imshow(\n",
    "            original[i].permute(1, 2, 0),\n",
    "            cmap=\"gray\" if config.data.dataset == \"AbdomenCT-1K\" else None,\n",
    "        )\n",
    "        ax.axis(\"off\")\n",
    "        if i == 0:\n",
    "            ax.set_title(\"Original\")\n",
    "\n",
    "        ax = fig.add_subplot(gs[i, 1])\n",
    "        ax.imshow(\n",
    "            perturbed[i].permute(1, 2, 0),\n",
    "            cmap=\"gray\" if config.data.dataset == \"AbdomenCT-1K\" else None,\n",
    "        )\n",
    "        ax.axis(\"off\")\n",
    "        if i == 0:\n",
    "            ax.set_title(\"Perturbed\")\n",
    "\n",
    "        ax = fig.add_subplot(gs[i, 2])\n",
    "        sample = denoised[i, :m]\n",
    "        sample = make_grid(sample, nrow=m, padding=0)\n",
    "        ax.imshow(\n",
    "            sample.permute(1, 2, 0),\n",
    "            cmap=\"gray\" if config.data.dataset == \"AbdomenCT1-K\" else None,\n",
    "        )\n",
    "        ax.axis(\"off\")\n",
    "        if i == 0:\n",
    "            ax.set_title(\"Samples\")\n",
    "    plt.savefig(os.path.join(fig_dir, f\"{config_name}.png\"), bbox_inches=\"tight\")\n",
    "    plt.savefig(os.path.join(fig_dir, f\"{config_name}.pdf\"), bbox_inches=\"tight\")\n",
    "    plt.show()\n",
    "    plt.close()"
   ]
  },
  {
   "cell_type": "code",
   "execution_count": null,
   "metadata": {},
   "outputs": [],
   "source": []
  }
 ],
 "metadata": {
  "kernelspec": {
   "display_name": "cuda116",
   "language": "python",
   "name": "python3"
  },
  "language_info": {
   "codemirror_mode": {
    "name": "ipython",
    "version": 3
   },
   "file_extension": ".py",
   "mimetype": "text/x-python",
   "name": "python",
   "nbconvert_exporter": "python",
   "pygments_lexer": "ipython3",
   "version": "3.10.9"
  },
  "vscode": {
   "interpreter": {
    "hash": "a22ede1198d678ad2a1cff9cda8d5b8766f1097d9385ad651df4552564969b5d"
   }
  }
 },
 "nbformat": 4,
 "nbformat_minor": 2
}
